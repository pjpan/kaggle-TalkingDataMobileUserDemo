{
 "cells": [
  {
   "cell_type": "code",
   "execution_count": 1,
   "metadata": {
    "collapsed": false
   },
   "outputs": [],
   "source": [
    "%matplotlib inline\n",
    "import pandas as pd\n",
    "import numpy as np\n",
    "import seaborn as sns\n",
    "import matplotlib.pyplot as plt\n",
    "import matplotlib.cm as cm\n",
    "import os\n",
    "from sklearn.preprocessing import LabelEncoder\n",
    "from sklearn.cross_validation import KFold\n",
    "from sklearn.metrics import log_loss"
   ]
  },
  {
   "cell_type": "markdown",
   "metadata": {},
   "source": [
    "# Phone brand and device model based benchmarks\n",
    "\n",
    "The task in this competition is to predict a user's age and gender group using information about their mobile phone model and usage patterns.\n",
    "\n",
    "Since many of the devices have no events data it's interesting to know how much information we can extract from phone brand and device model only. This notebook contains some benchmark approaches of inferring age and gender from data contained in `phone_brand_device_model.csv`.\n",
    "\n",
    "CV scores of different approaches obtained by 10-fold cross-validation are as follows:\n",
    "\n",
    "* 2.485 - 1/n_classes benchmark\n",
    "* 2.428 - class probabilities benchmark\n",
    "* 2.420 - predicting gender from phone brand\n",
    "* 2.417 - predicting gender from device model\n",
    "* 2.402 - predict gender-age group from phone brand\n",
    "* 2.395 - predict gender-age group from device model\n",
    "* 2.391 - mean of last two\n",
    "\n",
    "Some notes from the exploratory analysis:\n",
    "\n",
    "* Some device models could belong to different brands. So the correct way to label encode device model is to concatenate with brand first.\n",
    "* `phone_brand_device_model.csv` contains double entries for 529 device_ids. Most of these duplicate rows are identical and can be safely dropped, but six devices actually have different information in their rows. Of these 1 belongs to the train set and 5 to the test set.\n",
    "\n",
    "## Demographic data"
   ]
  },
  {
   "cell_type": "code",
   "execution_count": 3,
   "metadata": {
    "collapsed": false
   },
   "outputs": [
    {
     "data": {
      "text/html": [
       "<div>\n",
       "<table border=\"1\" class=\"dataframe\">\n",
       "  <thead>\n",
       "    <tr style=\"text-align: right;\">\n",
       "      <th></th>\n",
       "      <th>device_id</th>\n",
       "      <th>gender</th>\n",
       "      <th>age</th>\n",
       "      <th>group</th>\n",
       "    </tr>\n",
       "  </thead>\n",
       "  <tbody>\n",
       "    <tr>\n",
       "      <th>0</th>\n",
       "      <td>-8076087639492063270</td>\n",
       "      <td>M</td>\n",
       "      <td>35</td>\n",
       "      <td>M32-38</td>\n",
       "    </tr>\n",
       "    <tr>\n",
       "      <th>1</th>\n",
       "      <td>-2897161552818060146</td>\n",
       "      <td>M</td>\n",
       "      <td>35</td>\n",
       "      <td>M32-38</td>\n",
       "    </tr>\n",
       "    <tr>\n",
       "      <th>2</th>\n",
       "      <td>-8260683887967679142</td>\n",
       "      <td>M</td>\n",
       "      <td>35</td>\n",
       "      <td>M32-38</td>\n",
       "    </tr>\n",
       "  </tbody>\n",
       "</table>\n",
       "</div>"
      ],
      "text/plain": [
       "             device_id gender  age   group\n",
       "0 -8076087639492063270      M   35  M32-38\n",
       "1 -2897161552818060146      M   35  M32-38\n",
       "2 -8260683887967679142      M   35  M32-38"
      ]
     },
     "execution_count": 3,
     "metadata": {},
     "output_type": "execute_result"
    }
   ],
   "source": [
    "gatrain = pd.read_csv('../input/gender_age_train.csv')\n",
    "gatest = pd.read_csv('../input/gender_age_test.csv')\n",
    "gatrain.head(3)"
   ]
  },
  {
   "cell_type": "markdown",
   "metadata": {},
   "source": []
  },
  {
   "cell_type": "code",
   "execution_count": 4,
   "metadata": {
    "collapsed": false
   },
   "outputs": [
    {
     "data": {
      "text/plain": [
       "0"
      ]
     },
     "execution_count": 4,
     "metadata": {},
     "output_type": "execute_result"
    }
   ],
   "source": [
    "gatrain.shape[0] - gatrain.device_id.nunique()"
   ]
  },
  {
   "cell_type": "code",
   "execution_count": null,
   "metadata": {
    "collapsed": false
   },
   "outputs": [],
   "source": [
    "gatest.shape[0] - gatest.device_id.nunique()"
   ]
  },
  {
   "cell_type": "markdown",
   "metadata": {},
   "source": [
    "None, great.\n",
    "\n",
    "### Age and gender distributions\n",
    "\n",
    "Counts of target groups"
   ]
  },
  {
   "cell_type": "code",
   "execution_count": 5,
   "metadata": {
    "collapsed": false
   },
   "outputs": [
    {
     "data": {
      "text/plain": [
       "<matplotlib.axes._subplots.AxesSubplot at 0x114452ac8>"
      ]
     },
     "execution_count": 5,
     "metadata": {},
     "output_type": "execute_result"
    },
    {
     "data": {
      "image/png": "[encoded data removed]",
      "text/plain": [
       "<matplotlib.figure.Figure at 0x114452828>"
      ]
     },
     "metadata": {},
     "output_type": "display_data"
    }
   ],
   "source": [
    "gatrain.group.value_counts().sort_index(ascending=False).plot(kind='barh')"
   ]
  },
  {
   "cell_type": "markdown",
   "metadata": {},
   "source": [
    "Gender counts"
   ]
  },
  {
   "cell_type": "code",
   "execution_count": 6,
   "metadata": {
    "collapsed": false
   },
   "outputs": [
    {
     "data": {
      "text/plain": [
       "<matplotlib.axes._subplots.AxesSubplot at 0x1094f45c0>"
      ]
     },
     "execution_count": 6,
     "metadata": {},
     "output_type": "execute_result"
    },
    {
     "data": {
      "image/png": "[encoded data removed]",
      "text/plain": [
       "<matplotlib.figure.Figure at 0x109506c18>"
      ]
     },
     "metadata": {},
     "output_type": "display_data"
    }
   ],
   "source": [
    "gatrain.gender.value_counts().plot(kind='barh')"
   ]
  },
  {
   "cell_type": "markdown",
   "metadata": {},
   "source": [
    "Age distribution, lines denote target groups."
   ]
  },
  {
   "cell_type": "code",
   "execution_count": 7,
   "metadata": {
    "collapsed": false
   },
   "outputs": [
    {
     "data": {
      "text/plain": [
       "<matplotlib.collections.LineCollection at 0x1095716d8>"
      ]
     },
     "execution_count": 7,
     "metadata": {},
     "output_type": "execute_result"
    },
    {
     "data": {
      "image/png": "[encoded data removed]",
      "text/plain": [
       "<matplotlib.figure.Figure at 0x109571048>"
      ]
     },
     "metadata": {},
     "output_type": "display_data"
    }
   ],
   "source": [
    "c = gatrain.groupby(['age','gender']).size().unstack().reindex(index=np.arange(gatrain.age.min(), gatrain.age.max()+1)).fillna(0)\n",
    "ax1, ax2 = c.plot(kind='bar',figsize=(12,6),subplots=True);\n",
    "ax1.vlines(np.array([23,26,28,32,42])-0.5,0,1800,alpha=0.5,linewidth=1,color='r')\n",
    "ax2.vlines(np.array([22,26,28,31,38])-0.5,0,3000,alpha=0.5,linewidth=1,color='r')"
   ]
  },
  {
   "cell_type": "markdown",
   "metadata": {},
   "source": [
    "### 1/n_classes benchmark"
   ]
  },
  {
   "cell_type": "code",
   "execution_count": 8,
   "metadata": {
    "collapsed": false
   },
   "outputs": [],
   "source": [
    "letarget = LabelEncoder().fit(gatrain.group.values)\n",
    "y = letarget.transform(gatrain.group.values)\n",
    "n_classes = len(letarget.classes_)"
   ]
  },
  {
   "cell_type": "code",
   "execution_count": 17,
   "metadata": {
    "collapsed": false
   },
   "outputs": [
    {
     "data": {
      "text/plain": [
       "74645"
      ]
     },
     "execution_count": 17,
     "metadata": {},
     "output_type": "execute_result"
    }
   ],
   "source": [
    "gatrain.shape[0]"
   ]
  },
  {
   "cell_type": "code",
   "execution_count": 9,
   "metadata": {
    "collapsed": false
   },
   "outputs": [
    {
     "data": {
      "text/plain": [
       "2.4849066497880012"
      ]
     },
     "execution_count": 9,
     "metadata": {},
     "output_type": "execute_result"
    }
   ],
   "source": [
    "pred = np.ones((gatrain.shape[0],n_classes))/n_classes\n",
    "log_loss(y, pred)"
   ]
  },
  {
   "cell_type": "markdown",
   "metadata": {},
   "source": [
    "### Class probabilities benchmark\n",
    "\n",
    "Best we can do without any features."
   ]
  },
  {
   "cell_type": "code",
   "execution_count": 18,
   "metadata": {
    "collapsed": false
   },
   "outputs": [
    {
     "data": {
      "text/plain": [
       "array([[ 0.,  0.,  0.,  0.,  0.,  0.,  0.,  0.,  0.,  0.,  0.,  0.],\n",
       "       [ 0.,  0.,  0.,  0.,  0.,  0.,  0.,  0.,  0.,  0.,  0.,  0.],\n",
       "       [ 0.,  0.,  0.,  0.,  0.,  0.,  0.,  0.,  0.,  0.,  0.,  0.],\n",
       "       [ 0.,  0.,  0.,  0.,  0.,  0.,  0.,  0.,  0.,  0.,  0.,  0.],\n",
       "       [ 0.,  0.,  0.,  0.,  0.,  0.,  0.,  0.,  0.,  0.,  0.,  0.],\n",
       "       [ 0.,  0.,  0.,  0.,  0.,  0.,  0.,  0.,  0.,  0.,  0.,  0.],\n",
       "       [ 0.,  0.,  0.,  0.,  0.,  0.,  0.,  0.,  0.,  0.,  0.,  0.],\n",
       "       [ 0.,  0.,  0.,  0.,  0.,  0.,  0.,  0.,  0.,  0.,  0.,  0.],\n",
       "       [ 0.,  0.,  0.,  0.,  0.,  0.,  0.,  0.,  0.,  0.,  0.,  0.]])"
      ]
     },
     "execution_count": 18,
     "metadata": {},
     "output_type": "execute_result"
    }
   ],
   "source": [
    "pred = np.zeros((gatrain.shape[0],n_classes))"
   ]
  },
  {
   "cell_type": "code",
   "execution_count": 14,
   "metadata": {
    "collapsed": false
   },
   "outputs": [
    {
     "name": "stdout",
     "output_type": "stream",
     "text": [
      "2.42805122275\n"
     ]
    }
   ],
   "source": [
    "kf = KFold(gatrain.shape[0], n_folds=10, shuffle=True, random_state=0)\n",
    "pred = np.zeros((gatrain.shape[0],n_classes))\n",
    "for itrain, itest in kf:\n",
    "    train = gatrain.iloc[itrain,:]\n",
    "    test = gatrain.iloc[itest,:]\n",
    "    ytrain, ytest = y[itrain], y[itest]\n",
    "    prob = train.groupby('group').size()/train.shape[0]\n",
    "    pred[itest,:] = prob.values\n",
    "print(log_loss(y, pred))"
   ]
  },
  {
   "cell_type": "markdown",
   "metadata": {},
   "source": [
    "## Phone brand and model data"
   ]
  },
  {
   "cell_type": "code",
   "execution_count": 19,
   "metadata": {
    "collapsed": false
   },
   "outputs": [
    {
     "data": {
      "text/html": [
       "<div>\n",
       "<table border=\"1\" class=\"dataframe\">\n",
       "  <thead>\n",
       "    <tr style=\"text-align: right;\">\n",
       "      <th></th>\n",
       "      <th>device_id</th>\n",
       "      <th>phone_brand</th>\n",
       "      <th>device_model</th>\n",
       "    </tr>\n",
       "  </thead>\n",
       "  <tbody>\n",
       "    <tr>\n",
       "      <th>0</th>\n",
       "      <td>-8890648629457979026</td>\n",
       "      <td>小米</td>\n",
       "      <td>红米</td>\n",
       "    </tr>\n",
       "    <tr>\n",
       "      <th>1</th>\n",
       "      <td>1277779817574759137</td>\n",
       "      <td>小米</td>\n",
       "      <td>MI 2</td>\n",
       "    </tr>\n",
       "    <tr>\n",
       "      <th>2</th>\n",
       "      <td>5137427614288105724</td>\n",
       "      <td>三星</td>\n",
       "      <td>Galaxy S4</td>\n",
       "    </tr>\n",
       "  </tbody>\n",
       "</table>\n",
       "</div>"
      ],
      "text/plain": [
       "             device_id phone_brand device_model\n",
       "0 -8890648629457979026          小米           红米\n",
       "1  1277779817574759137          小米         MI 2\n",
       "2  5137427614288105724          三星    Galaxy S4"
      ]
     },
     "execution_count": 19,
     "metadata": {},
     "output_type": "execute_result"
    }
   ],
   "source": [
    "phone = pd.read_csv('../input/phone_brand_device_model.csv',encoding='utf-8')\n",
    "phone.head(3)"
   ]
  },
  {
   "cell_type": "code",
   "execution_count": 20,
   "metadata": {
    "collapsed": false
   },
   "outputs": [
    {
     "name": "stdout",
     "output_type": "stream",
     "text": [
      "187245 rows\n",
      "unique values:\n",
      "device_id: 186716\n",
      "phone_brand: 131\n",
      "device_model: 1599\n"
     ]
    }
   ],
   "source": [
    "print('{} rows'.format(phone.shape[0]))\n",
    "print(\"unique values:\")\n",
    "for c in phone.columns:\n",
    "    print('{}: {}'.format(c, phone[c].nunique()))"
   ]
  },
  {
   "cell_type": "markdown",
   "metadata": {},
   "source": [
    "### Duplicate devide_ids"
   ]
  },
  {
   "cell_type": "code",
   "execution_count": 21,
   "metadata": {
    "collapsed": false
   },
   "outputs": [
    {
     "data": {
      "text/plain": [
       "(529,)"
      ]
     },
     "execution_count": 21,
     "metadata": {},
     "output_type": "execute_result"
    }
   ],
   "source": [
    "dup = phone.groupby('device_id').size()\n",
    "dup = dup[dup>1]\n",
    "dup.shape"
   ]
  },
  {
   "cell_type": "code",
   "execution_count": 22,
   "metadata": {
    "collapsed": false
   },
   "outputs": [
    {
     "data": {
      "text/plain": [
       "2    529\n",
       "dtype: int64"
      ]
     },
     "execution_count": 22,
     "metadata": {},
     "output_type": "execute_result"
    }
   ],
   "source": [
    "dup.value_counts()"
   ]
  },
  {
   "cell_type": "markdown",
   "metadata": {},
   "source": [
    "529 device ids have duplicate entries in phone dataframe. Are duplicate rows identical or different?"
   ]
  },
  {
   "cell_type": "code",
   "execution_count": 23,
   "metadata": {
    "collapsed": false
   },
   "outputs": [],
   "source": [
    "dup = phone.loc[phone.device_id.isin(dup.index)]\n",
    "first = dup.groupby('device_id').first()\n",
    "last = dup.groupby('device_id').last()"
   ]
  },
  {
   "cell_type": "code",
   "execution_count": 24,
   "metadata": {
    "collapsed": false
   },
   "outputs": [
    {
     "data": {
      "text/html": [
       "<div>\n",
       "<table border=\"1\" class=\"dataframe\">\n",
       "  <thead>\n",
       "    <tr style=\"text-align: right;\">\n",
       "      <th></th>\n",
       "      <th>phone_brand</th>\n",
       "      <th>device_model</th>\n",
       "      <th>phone_brand</th>\n",
       "      <th>device_model</th>\n",
       "    </tr>\n",
       "    <tr>\n",
       "      <th>device_id</th>\n",
       "      <th></th>\n",
       "      <th></th>\n",
       "      <th></th>\n",
       "      <th></th>\n",
       "    </tr>\n",
       "  </thead>\n",
       "  <tbody>\n",
       "    <tr>\n",
       "      <th>-7297178577997113203</th>\n",
       "      <td>华为</td>\n",
       "      <td>荣耀畅玩5X</td>\n",
       "      <td>华为</td>\n",
       "      <td>荣耀3C</td>\n",
       "    </tr>\n",
       "    <tr>\n",
       "      <th>-7059081542575379359</th>\n",
       "      <td>LG</td>\n",
       "      <td>Nexus 5</td>\n",
       "      <td>魅族</td>\n",
       "      <td>魅蓝Note 2</td>\n",
       "    </tr>\n",
       "    <tr>\n",
       "      <th>-6590454305031525112</th>\n",
       "      <td>小米</td>\n",
       "      <td>MI 3</td>\n",
       "      <td>华为</td>\n",
       "      <td>荣耀6 Plus</td>\n",
       "    </tr>\n",
       "    <tr>\n",
       "      <th>-5269721363279128080</th>\n",
       "      <td>三星</td>\n",
       "      <td>Galaxy Core Advance</td>\n",
       "      <td>小米</td>\n",
       "      <td>MI 3</td>\n",
       "    </tr>\n",
       "    <tr>\n",
       "      <th>-3004353610608679970</th>\n",
       "      <td>酷派</td>\n",
       "      <td>5891</td>\n",
       "      <td>酷派</td>\n",
       "      <td>7296</td>\n",
       "    </tr>\n",
       "    <tr>\n",
       "      <th>5245428108336915020</th>\n",
       "      <td>魅族</td>\n",
       "      <td>MX4</td>\n",
       "      <td>小米</td>\n",
       "      <td>MI One Plus</td>\n",
       "    </tr>\n",
       "  </tbody>\n",
       "</table>\n",
       "</div>"
      ],
      "text/plain": [
       "                     phone_brand         device_model phone_brand device_model\n",
       "device_id                                                                     \n",
       "-7297178577997113203          华为               荣耀畅玩5X          华为         荣耀3C\n",
       "-7059081542575379359          LG              Nexus 5          魅族     魅蓝Note 2\n",
       "-6590454305031525112          小米                 MI 3          华为     荣耀6 Plus\n",
       "-5269721363279128080          三星  Galaxy Core Advance          小米         MI 3\n",
       "-3004353610608679970          酷派                 5891          酷派         7296\n",
       " 5245428108336915020          魅族                  MX4          小米  MI One Plus"
      ]
     },
     "execution_count": 24,
     "metadata": {},
     "output_type": "execute_result"
    }
   ],
   "source": [
    "diff = (first != last).sum(axis=1).nonzero()\n",
    "pd.concat((first.iloc[diff], last.iloc[diff]),axis=1)"
   ]
  },
  {
   "cell_type": "markdown",
   "metadata": {},
   "source": [
    "Looks like 6 devices with duplicate rows have different values for brand and model. Are they in train or in test?"
   ]
  },
  {
   "cell_type": "code",
   "execution_count": 25,
   "metadata": {
    "collapsed": false
   },
   "outputs": [
    {
     "name": "stdout",
     "output_type": "stream",
     "text": [
      "in train: 1\n",
      "in test: 5\n"
     ]
    }
   ],
   "source": [
    "dev = _.index\n",
    "print(\"in train: {}\".format(sum(gatrain.device_id.isin(dev))))\n",
    "print(\"in test: {}\".format(sum(gatest.device_id.isin(dev))))"
   ]
  },
  {
   "cell_type": "markdown",
   "metadata": {},
   "source": [
    "For now just drop duplicates."
   ]
  },
  {
   "cell_type": "code",
   "execution_count": 26,
   "metadata": {
    "collapsed": false
   },
   "outputs": [],
   "source": [
    "phone = phone.drop_duplicates('device_id', keep='first')"
   ]
  },
  {
   "cell_type": "markdown",
   "metadata": {},
   "source": [
    "### Any models that can belong to different brands?"
   ]
  },
  {
   "cell_type": "code",
   "execution_count": 27,
   "metadata": {
    "collapsed": false
   },
   "outputs": [
    {
     "data": {
      "text/plain": [
       "1    1545\n",
       "2      43\n",
       "3       8\n",
       "4       3\n",
       "Name: phone_brand, dtype: int64"
      ]
     },
     "execution_count": 27,
     "metadata": {},
     "output_type": "execute_result"
    }
   ],
   "source": [
    "c = phone.groupby('device_model')['phone_brand'].apply(pd.Series.nunique)\n",
    "c.value_counts()"
   ]
  },
  {
   "cell_type": "markdown",
   "metadata": {},
   "source": [
    "Some device models can belong to more than one brand. So the correct way to label-encode device models is probably to concatenate with brand first."
   ]
  },
  {
   "cell_type": "code",
   "execution_count": 28,
   "metadata": {
    "collapsed": false
   },
   "outputs": [],
   "source": [
    "lebrand = LabelEncoder().fit(phone.phone_brand)\n",
    "phone['brand'] = lebrand.transform(phone.phone_brand)\n",
    "m = phone.phone_brand.str.cat(phone.device_model)\n",
    "lemodel = LabelEncoder().fit(m)\n",
    "phone['model'] = lemodel.transform(m)"
   ]
  },
  {
   "cell_type": "markdown",
   "metadata": {},
   "source": [
    "### Brands and models popularity"
   ]
  },
  {
   "cell_type": "code",
   "execution_count": 29,
   "metadata": {
    "collapsed": false
   },
   "outputs": [
    {
     "data": {
      "image/png": "[encoded data removed]",
      "text/plain": [
       "<matplotlib.figure.Figure at 0x11875b518>"
      ]
     },
     "metadata": {},
     "output_type": "display_data"
    }
   ],
   "source": [
    "c = phone.brand.value_counts()\n",
    "s = c.cumsum()/c.sum()\n",
    "fig, (ax1,ax2) = plt.subplots(1,2,sharey=True,figsize=(10,4))\n",
    "ax1.plot(np.arange(s.shape[0])+1, s.values*100)\n",
    "ax1.set_xlim(0,30)\n",
    "ax1.set_xlabel('N most popular brands')\n",
    "ax1.set_title('% of devices');\n",
    "c = phone.model.value_counts()\n",
    "s = c.cumsum()/c.sum()\n",
    "ax2.plot(np.arange(s.shape[0])+1, s.values*100)\n",
    "ax2.set_xlim(0,400)\n",
    "ax2.set_xlabel('N most popular models')\n",
    "ax2.set_title('% of devices');"
   ]
  },
  {
   "cell_type": "markdown",
   "metadata": {},
   "source": [
    "9 most popular brands account for 90% of devices. For models the number to account for 90% of devices is 373.\n",
    "\n",
    "### Gender ratios by phone brand"
   ]
  },
  {
   "cell_type": "code",
   "execution_count": 30,
   "metadata": {
    "collapsed": false
   },
   "outputs": [],
   "source": [
    "train = gatrain.merge(phone[['device_id','brand','model']], how='left',on='device_id')"
   ]
  },
  {
   "cell_type": "code",
   "execution_count": 31,
   "metadata": {
    "collapsed": false
   },
   "outputs": [],
   "source": [
    "def plot_by(df, cat, by, perc = 0.95):\n",
    "    # Find popular categories\n",
    "    c = df[by].value_counts().cumsum()/df.shape[0]\n",
    "    take = c[c<=perc].index\n",
    "    # Pool rare categories into 'other' cat\n",
    "    gr = df[by].copy()\n",
    "    gr[~(df[by].isin(take))] = 'other'\n",
    "    # Count target classes in groups\n",
    "    c = df.groupby([gr,cat]).size().unstack().fillna(0)\n",
    "    total = c.sum(axis=1)\n",
    "    meanprobs = c.sum(axis=0).cumsum()/df.shape[0]\n",
    "    # Transform to probabilities\n",
    "    sortcol = c.columns[int(np.floor((c.shape[1]-1)/2))]\n",
    "    c = c.div(c.sum(axis=1), axis='index')\n",
    "    # Cumsum for stacked bars\n",
    "    c = c.cumsum(axis=1).sort_values(by=sortcol)\n",
    "    total = total.loc[c.index]\n",
    "    # Prepare plot data\n",
    "    left = np.array([0, *(total.iloc[:-1].cumsum().values)])\n",
    "    ticks = left + 0.5*total.values\n",
    "    colors = cm.rainbow(np.linspace(0.1,0.9,num=c.shape[1]))\n",
    "    fig, ax = plt.subplots(figsize=(10,5))\n",
    "    for (i,col) in enumerate(c.columns[::-1]):\n",
    "        height = c[col].values\n",
    "        ax.bar(left, height, total.values,label=col,color=colors[i],zorder = c.shape[0]+i)\n",
    "    for p in meanprobs.iloc[:-1]:\n",
    "        ax.hlines(p, 0, total.sum(),\n",
    "                  color='w',alpha=0.6,zorder=c.shape[0]*10,linewidth=1)\n",
    "    # legend placement needs more work\n",
    "    ax.legend(bbox_to_anchor=(1.1, 0.8),title=cat)\n",
    "    ax.set_xticks(ticks)\n",
    "    ax.set_xticklabels(total.index, rotation='vertical')\n",
    "    ax.set_xlabel(by)\n",
    "    ax.set_xlim(0,left[-1]+total.values[-1])\n",
    "    return ax"
   ]
  },
  {
   "cell_type": "markdown",
   "metadata": {},
   "source": [
    "Bar widths represent group counts, ratio of genders in each group is shown. The line represents overall genders ratio."
   ]
  },
  {
   "cell_type": "code",
   "execution_count": 32,
   "metadata": {
    "collapsed": false
   },
   "outputs": [
    {
     "data": {
      "image/png": "[encoded data removed]",
      "text/plain": [
       "<matplotlib.figure.Figure at 0x10962a860>"
      ]
     },
     "metadata": {},
     "output_type": "display_data"
    }
   ],
   "source": [
    "ax = plot_by(train, 'gender','brand')"
   ]
  },
  {
   "cell_type": "code",
   "execution_count": 33,
   "metadata": {
    "collapsed": false
   },
   "outputs": [
    {
     "data": {
      "text/plain": [
       "array(['三星', 'OPPO', 'vivo'], dtype=object)"
      ]
     },
     "execution_count": 33,
     "metadata": {},
     "output_type": "execute_result"
    }
   ],
   "source": [
    "# brands preferred by female users\n",
    "lebrand.classes_[[15, 7, 13]]"
   ]
  },
  {
   "cell_type": "markdown",
   "metadata": {},
   "source": [
    "What about models?"
   ]
  },
  {
   "cell_type": "code",
   "execution_count": 34,
   "metadata": {
    "collapsed": false
   },
   "outputs": [
    {
     "data": {
      "image/png": "[encoded data removed]",
      "text/plain": [
       "<matplotlib.figure.Figure at 0x109589048>"
      ]
     },
     "metadata": {},
     "output_type": "display_data"
    }
   ],
   "source": [
    "ax = plot_by(train, 'gender','model')"
   ]
  },
  {
   "cell_type": "markdown",
   "metadata": {},
   "source": [
    "Way too many device models here...\n",
    "\n",
    "### Age distributions by phone brand\n",
    "\n",
    "Color = gender\n"
   ]
  },
  {
   "cell_type": "code",
   "execution_count": 2,
   "metadata": {
    "collapsed": false
   },
   "outputs": [
    {
     "ename": "NameError",
     "evalue": "name 'train' is not defined",
     "output_type": "error",
     "traceback": [
      "\u001b[0;31m---------------------------------------------------------------------------\u001b[0m",
      "\u001b[0;31mNameError\u001b[0m                                 Traceback (most recent call last)",
      "\u001b[0;32m<ipython-input-2-e75f7dbe3f39>\u001b[0m in \u001b[0;36m<module>\u001b[0;34m()\u001b[0m\n\u001b[0;32m----> 1\u001b[0;31m \u001b[0mbrands\u001b[0m \u001b[0;34m=\u001b[0m \u001b[0mtrain\u001b[0m\u001b[0;34m.\u001b[0m\u001b[0mbrand\u001b[0m\u001b[0;34m.\u001b[0m\u001b[0mvalue_counts\u001b[0m\u001b[0;34m(\u001b[0m\u001b[0;34m)\u001b[0m\u001b[0;34m.\u001b[0m\u001b[0mindex\u001b[0m\u001b[0;34m[\u001b[0m\u001b[0;34m:\u001b[0m\u001b[0;36m6\u001b[0m\u001b[0;34m]\u001b[0m\u001b[0;34m\u001b[0m\u001b[0m\n\u001b[0m\u001b[1;32m      2\u001b[0m \u001b[0mc\u001b[0m \u001b[0;34m=\u001b[0m \u001b[0mtrain\u001b[0m\u001b[0;34m[\u001b[0m\u001b[0mtrain\u001b[0m\u001b[0;34m.\u001b[0m\u001b[0mbrand\u001b[0m\u001b[0;34m.\u001b[0m\u001b[0misin\u001b[0m\u001b[0;34m(\u001b[0m\u001b[0mbrands\u001b[0m\u001b[0;34m)\u001b[0m\u001b[0;34m]\u001b[0m\u001b[0;34m\u001b[0m\u001b[0m\n\u001b[1;32m      3\u001b[0m \u001b[0mg\u001b[0m \u001b[0;34m=\u001b[0m \u001b[0msns\u001b[0m\u001b[0;34m.\u001b[0m\u001b[0mFacetGrid\u001b[0m\u001b[0;34m(\u001b[0m\u001b[0mc\u001b[0m\u001b[0;34m,\u001b[0m \u001b[0mhue\u001b[0m\u001b[0;34m=\u001b[0m\u001b[0;34m'gender'\u001b[0m\u001b[0;34m,\u001b[0m \u001b[0mcol\u001b[0m\u001b[0;34m=\u001b[0m\u001b[0;34m'brand'\u001b[0m\u001b[0;34m,\u001b[0m\u001b[0mcol_wrap\u001b[0m\u001b[0;34m=\u001b[0m\u001b[0;36m2\u001b[0m\u001b[0;34m,\u001b[0m \u001b[0maspect\u001b[0m\u001b[0;34m=\u001b[0m\u001b[0;36m2\u001b[0m\u001b[0;34m,\u001b[0m \u001b[0mxlim\u001b[0m\u001b[0;34m=\u001b[0m\u001b[0;34m(\u001b[0m\u001b[0;36m15\u001b[0m\u001b[0;34m,\u001b[0m\u001b[0;36m60\u001b[0m\u001b[0;34m)\u001b[0m\u001b[0;34m)\u001b[0m\u001b[0;34m\u001b[0m\u001b[0m\n\u001b[1;32m      4\u001b[0m \u001b[0mg\u001b[0m\u001b[0;34m.\u001b[0m\u001b[0mmap\u001b[0m\u001b[0;34m(\u001b[0m\u001b[0msns\u001b[0m\u001b[0;34m.\u001b[0m\u001b[0mdistplot\u001b[0m\u001b[0;34m,\u001b[0m \u001b[0;34m'age'\u001b[0m\u001b[0;34m,\u001b[0m \u001b[0mbins\u001b[0m\u001b[0;34m=\u001b[0m\u001b[0mnp\u001b[0m\u001b[0;34m.\u001b[0m\u001b[0marange\u001b[0m\u001b[0;34m(\u001b[0m\u001b[0;36m15\u001b[0m\u001b[0;34m,\u001b[0m\u001b[0;36m70\u001b[0m\u001b[0;34m)\u001b[0m\u001b[0;34m+\u001b[0m\u001b[0;36m0.5\u001b[0m\u001b[0;34m)\u001b[0m\u001b[0;34m\u001b[0m\u001b[0m\n",
      "\u001b[0;31mNameError\u001b[0m: name 'train' is not defined"
     ]
    }
   ],
   "source": [
    "brands = train.brand.value_counts().index[:6]\n",
    "c = train[train.brand.isin(brands)]\n",
    "g = sns.FacetGrid(c, hue='gender', col='brand',col_wrap=2, aspect=2, xlim=(15,60))\n",
    "g.map(sns.distplot, 'age', bins=np.arange(15,70)+0.5)"
   ]
  },
  {
   "cell_type": "markdown",
   "metadata": {},
   "source": [
    "Mostly look very similar.\n",
    "\n",
    "### Age distributions by phone model"
   ]
  },
  {
   "cell_type": "code",
   "execution_count": null,
   "metadata": {
    "collapsed": false
   },
   "outputs": [],
   "source": [
    "models = train.model.value_counts().index[:6]\n",
    "c = train[train.model.isin(models)]\n",
    "g = sns.FacetGrid(c, hue='gender', col='model',col_wrap=2, aspect=2, xlim=(15,60))\n",
    "g.map(sns.distplot, 'age', bins=np.arange(15,70)+0.5)"
   ]
  },
  {
   "cell_type": "markdown",
   "metadata": {},
   "source": [
    "So do these.\n",
    "\n",
    "### Benchmark: predict gender from phone brand"
   ]
  },
  {
   "cell_type": "code",
   "execution_count": null,
   "metadata": {
    "collapsed": false
   },
   "outputs": [],
   "source": [
    "ptrain = gatrain.merge(phone[['device_id','brand','model']], how='left',on='device_id')\n",
    "ptrain.head(3)"
   ]
  },
  {
   "cell_type": "code",
   "execution_count": null,
   "metadata": {
    "collapsed": false
   },
   "outputs": [],
   "source": [
    "class GenderProb(object):\n",
    "    def __init__(self, prior_weight=10.):\n",
    "        self.prior_weight = prior_weight\n",
    "    \n",
    "    def fit(self, df, by):\n",
    "        self.by = by\n",
    "        self.label = 'pF_' + by\n",
    "        self.prior = (df['gender']=='F').mean()\n",
    "        # fit age groups\n",
    "        prob = train.groupby(['gender','group']).size()\n",
    "        pF = prob['F']/prob['F'].sum()\n",
    "        pM = prob['M']/prob['M'].sum()\n",
    "        self.agegroups = pd.concat((pF,pM),axis=0)\n",
    "        # fit gender probs by grouping column\n",
    "        c = (df[['gender']]=='F').groupby(df[by]).agg(['sum','count'])\n",
    "        s = c[('gender','sum')]\n",
    "        n = c[('gender','count')]\n",
    "        prob = (s + self.prior*self.prior_weight) / (n + self.prior_weight)\n",
    "        self.prob = pd.DataFrame(prob, columns=[self.label])\n",
    "        return self\n",
    "    \n",
    "    def predict_proba(self, df):\n",
    "        pF = df[[self.by]].merge(self.prob, how='left', \n",
    "                                left_on=self.by, right_index=True).fillna(self.prior)[self.label]\n",
    "        pF = np.reshape(pF.values,(pF.shape[0],1))\n",
    "        pred = np.zeros((df.shape[0],12))\n",
    "        pred += self.agegroups.values\n",
    "        pred[:,:6] *= pF\n",
    "        pred[:,6:] *= 1-pF\n",
    "        return pred"
   ]
  },
  {
   "cell_type": "code",
   "execution_count": null,
   "metadata": {
    "collapsed": false
   },
   "outputs": [],
   "source": [
    "kf = KFold(ptrain.shape[0], n_folds=10, shuffle=True, random_state=0)\n",
    "pred = np.zeros((ptrain.shape[0],n_classes))\n",
    "for itrain, itest in kf:\n",
    "    train = ptrain.iloc[itrain,:]\n",
    "    test = ptrain.iloc[itest,:]\n",
    "    ytrain, ytest = y[itrain], y[itest]\n",
    "    clf = GenderProb().fit(train,'brand')\n",
    "    pred[itest,:] = clf.predict_proba(test)\n",
    "print(log_loss(y, pred))"
   ]
  },
  {
   "cell_type": "markdown",
   "metadata": {},
   "source": [
    "Wrap the scoring in a function to try different values for prior_weight."
   ]
  },
  {
   "cell_type": "code",
   "execution_count": null,
   "metadata": {
    "collapsed": false
   },
   "outputs": [],
   "source": [
    "def score(ptrain, by, prior_weight=10.):\n",
    "    kf = KFold(ptrain.shape[0], n_folds=10, shuffle=True, random_state=0)\n",
    "    pred = np.zeros((ptrain.shape[0],n_classes))\n",
    "    for itrain, itest in kf:\n",
    "        train = ptrain.iloc[itrain,:]\n",
    "        test = ptrain.iloc[itest,:]\n",
    "        ytrain, ytest = y[itrain], y[itest]\n",
    "        clf = GenderProb(prior_weight=prior_weight).fit(train,by)\n",
    "        pred[itest,:] = clf.predict_proba(test)\n",
    "    return log_loss(y, pred)"
   ]
  },
  {
   "cell_type": "code",
   "execution_count": null,
   "metadata": {
    "collapsed": false
   },
   "outputs": [],
   "source": [
    "weights = [0.1, 0.5, 1., 5., 10., 20.,40.]\n",
    "res = [score(ptrain,'brand',prior_weight=w) for w in weights]\n",
    "plt.plot(weights, res)\n",
    "plt.title('Best score {:.5f} at prior_weight = {}'.format(np.min(res),weights[np.argmin(res)]))\n",
    "plt.xlabel('prior_weight')"
   ]
  },
  {
   "cell_type": "markdown",
   "metadata": {},
   "source": [
    "### Benchmark: predict gender from device model"
   ]
  },
  {
   "cell_type": "code",
   "execution_count": null,
   "metadata": {
    "collapsed": false
   },
   "outputs": [],
   "source": [
    "weights = [0.1, 0.5, 1., 5., 10., 20.,40.]\n",
    "res = [score(ptrain,'model',prior_weight=w) for w in weights]\n",
    "plt.plot(weights, res)\n",
    "plt.title('Best score {:.5f} at prior_weight = {}'.format(np.min(res),weights[np.argmin(res)]))\n",
    "plt.xlabel('prior_weight')"
   ]
  },
  {
   "cell_type": "markdown",
   "metadata": {},
   "source": [
    "An improvement of about 0.01 when going from predicting class probabilities to predicting gender based on device model.\n",
    "\n",
    "### Benchmark: predict gender-age group from phone brand"
   ]
  },
  {
   "cell_type": "code",
   "execution_count": null,
   "metadata": {
    "collapsed": false
   },
   "outputs": [],
   "source": [
    "class GenderAgeGroupProb(object):\n",
    "    def __init__(self, prior_weight=10.):\n",
    "        self.prior_weight = prior_weight\n",
    "    \n",
    "    def fit(self, df, by):\n",
    "        self.by = by\n",
    "        #self.label = 'pF_' + by\n",
    "        self.prior = df['group'].value_counts().sort_index()/df.shape[0]\n",
    "        # fit gender probs by grouping column\n",
    "        c = df.groupby([by, 'group']).size().unstack().fillna(0)\n",
    "        total = c.sum(axis=1)\n",
    "        self.prob = (c.add(self.prior_weight*self.prior)).div(c.sum(axis=1)+self.prior_weight, axis=0)\n",
    "        return self\n",
    "    \n",
    "    def predict_proba(self, df):\n",
    "        pred = df[[self.by]].merge(self.prob, how='left', \n",
    "                                left_on=self.by, right_index=True).fillna(self.prior)[self.prob.columns]\n",
    "        pred.loc[pred.iloc[:,0].isnull(),:] = self.prior\n",
    "        return pred.values\n",
    "    \n",
    "def score(ptrain, by, prior_weight=10.):\n",
    "    kf = KFold(ptrain.shape[0], n_folds=10, shuffle=True, random_state=0)\n",
    "    pred = np.zeros((ptrain.shape[0],n_classes))\n",
    "    for itrain, itest in kf:\n",
    "        train = ptrain.iloc[itrain,:]\n",
    "        test = ptrain.iloc[itest,:]\n",
    "        ytrain, ytest = y[itrain], y[itest]\n",
    "        clf = GenderAgeGroupProb(prior_weight=prior_weight).fit(train,by)\n",
    "        pred[itest,:] = clf.predict_proba(test)\n",
    "    return log_loss(y, pred)"
   ]
  },
  {
   "cell_type": "code",
   "execution_count": null,
   "metadata": {
    "collapsed": false
   },
   "outputs": [],
   "source": [
    "weights = [0.5, 1., 5., 10., 20.,40.,100.]\n",
    "res = [score(ptrain,'brand',prior_weight=w) for w in weights]\n",
    "plt.plot(weights, res)\n",
    "plt.title('Best score {:.5f} at prior_weight = {}'.format(np.min(res),weights[np.argmin(res)]))\n",
    "plt.xlabel('prior_weight')"
   ]
  },
  {
   "cell_type": "markdown",
   "metadata": {},
   "source": [
    "### Benchmark: predict gender-age group from device model"
   ]
  },
  {
   "cell_type": "code",
   "execution_count": null,
   "metadata": {
    "collapsed": false
   },
   "outputs": [],
   "source": [
    "weights = [0.5, 1., 5., 10., 20.,40.,100.]\n",
    "res = [score(ptrain,'model',prior_weight=w) for w in weights]\n",
    "plt.plot(weights, res)\n",
    "plt.title('Best score {:.5f} at prior_weight = {}'.format(np.min(res),weights[np.argmin(res)]))\n",
    "plt.xlabel('prior_weight')"
   ]
  },
  {
   "cell_type": "markdown",
   "metadata": {},
   "source": [
    "What if we combine predictions from phone brand and device model?"
   ]
  },
  {
   "cell_type": "code",
   "execution_count": null,
   "metadata": {
    "collapsed": false
   },
   "outputs": [],
   "source": [
    "kf = KFold(ptrain.shape[0], n_folds=10, shuffle=True, random_state=0)\n",
    "predb = np.zeros((ptrain.shape[0],n_classes))\n",
    "predm = np.zeros((ptrain.shape[0],n_classes))\n",
    "for itrain, itest in kf:\n",
    "    train = ptrain.iloc[itrain,:]\n",
    "    test = ptrain.iloc[itest,:]\n",
    "    ytrain, ytest = y[itrain], y[itest]\n",
    "    clf = GenderAgeGroupProb(prior_weight=40.).fit(train,'brand')\n",
    "    predb[itest,:] = clf.predict_proba(test)\n",
    "    clf = GenderAgeGroupProb(prior_weight=40.).fit(train,'model')\n",
    "    predm[itest,:] = clf.predict_proba(test)\n",
    "log_loss(y, 0.5*(predb+predm))"
   ]
  },
  {
   "cell_type": "markdown",
   "metadata": {},
   "source": [
    "Down ot 2.391.\n",
    "\n",
    "## Make a submission"
   ]
  },
  {
   "cell_type": "code",
   "execution_count": null,
   "metadata": {
    "collapsed": false
   },
   "outputs": [],
   "source": [
    "ptest = gatest.merge(phone[['device_id','brand','model']], how='left',on='device_id')\n",
    "ptest.head(3)"
   ]
  },
  {
   "cell_type": "code",
   "execution_count": null,
   "metadata": {
    "collapsed": false
   },
   "outputs": [],
   "source": [
    "clf = GenderAgeGroupProb(prior_weight=40.).fit(ptrain,'brand')\n",
    "predb = clf.predict_proba(ptest)\n",
    "clf = GenderAgeGroupProb(prior_weight=40.).fit(ptrain,'model')\n",
    "predm = clf.predict_proba(ptest)"
   ]
  },
  {
   "cell_type": "code",
   "execution_count": null,
   "metadata": {
    "collapsed": false
   },
   "outputs": [],
   "source": [
    "pd.DataFrame(0.5*(predb+predm), \n",
    "             index = ptest.device_id, \n",
    "             columns=letarget.classes_).to_csv('pbm_subm.csv', index=True)"
   ]
  }
 ],
 "metadata": {
  "anaconda-cloud": {},
  "kernelspec": {
   "display_name": "Python [Root]",
   "language": "python",
   "name": "Python [Root]"
  },
  "language_info": {
   "codemirror_mode": {
    "name": "ipython",
    "version": 3
   },
   "file_extension": ".py",
   "mimetype": "text/x-python",
   "name": "python",
   "nbconvert_exporter": "python",
   "pygments_lexer": "ipython3",
   "version": "3.5.2"
  }
 },
 "nbformat": 4,
 "nbformat_minor": 0
}
